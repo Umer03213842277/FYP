{
  "cells": [
    {
      "cell_type": "code",
      "execution_count": null,
      "metadata": {
        "colab": {
          "base_uri": "https://localhost:8080/"
        },
        "id": "QHt_wDQanMC1",
        "outputId": "d2210a36-2642-4012-f2ef-a9287d3002ef"
      },
      "outputs": [
        {
          "output_type": "stream",
          "name": "stdout",
          "text": [
            "Requirement already satisfied: transformers in /usr/local/lib/python3.10/dist-packages (4.35.2)\n",
            "Requirement already satisfied: filelock in /usr/local/lib/python3.10/dist-packages (from transformers) (3.13.1)\n",
            "Requirement already satisfied: huggingface-hub<1.0,>=0.16.4 in /usr/local/lib/python3.10/dist-packages (from transformers) (0.20.3)\n",
            "Requirement already satisfied: numpy>=1.17 in /usr/local/lib/python3.10/dist-packages (from transformers) (1.23.5)\n",
            "Requirement already satisfied: packaging>=20.0 in /usr/local/lib/python3.10/dist-packages (from transformers) (23.2)\n",
            "Requirement already satisfied: pyyaml>=5.1 in /usr/local/lib/python3.10/dist-packages (from transformers) (6.0.1)\n",
            "Requirement already satisfied: regex!=2019.12.17 in /usr/local/lib/python3.10/dist-packages (from transformers) (2023.6.3)\n",
            "Requirement already satisfied: requests in /usr/local/lib/python3.10/dist-packages (from transformers) (2.31.0)\n",
            "Requirement already satisfied: tokenizers<0.19,>=0.14 in /usr/local/lib/python3.10/dist-packages (from transformers) (0.15.1)\n",
            "Requirement already satisfied: safetensors>=0.3.1 in /usr/local/lib/python3.10/dist-packages (from transformers) (0.4.1)\n",
            "Requirement already satisfied: tqdm>=4.27 in /usr/local/lib/python3.10/dist-packages (from transformers) (4.66.1)\n",
            "Requirement already satisfied: fsspec>=2023.5.0 in /usr/local/lib/python3.10/dist-packages (from huggingface-hub<1.0,>=0.16.4->transformers) (2023.6.0)\n",
            "Requirement already satisfied: typing-extensions>=3.7.4.3 in /usr/local/lib/python3.10/dist-packages (from huggingface-hub<1.0,>=0.16.4->transformers) (4.5.0)\n",
            "Requirement already satisfied: charset-normalizer<4,>=2 in /usr/local/lib/python3.10/dist-packages (from requests->transformers) (3.3.2)\n",
            "Requirement already satisfied: idna<4,>=2.5 in /usr/local/lib/python3.10/dist-packages (from requests->transformers) (3.6)\n",
            "Requirement already satisfied: urllib3<3,>=1.21.1 in /usr/local/lib/python3.10/dist-packages (from requests->transformers) (2.0.7)\n",
            "Requirement already satisfied: certifi>=2017.4.17 in /usr/local/lib/python3.10/dist-packages (from requests->transformers) (2023.11.17)\n"
          ]
        }
      ],
      "source": [
        "!pip install transformers"
      ]
    },
    {
      "cell_type": "code",
      "execution_count": null,
      "metadata": {
        "id": "3B8UR_UJnWa6"
      },
      "outputs": [],
      "source": [
        "from transformers import DistilBertModel, DistilBertTokenizer\n",
        "import torch\n",
        "import json\n",
        "import tensorflow as tf\n",
        "import numpy as np\n",
        "import os\n",
        "from google.colab import drive"
      ]
    },
    {
      "cell_type": "code",
      "execution_count": null,
      "metadata": {
        "id": "jrjx-yZwy5Ww"
      },
      "outputs": [],
      "source": [
        "import re\n",
        "import string\n",
        "import nltk\n",
        "from nltk.corpus import stopwords\n",
        "from nltk.tokenize import word_tokenize"
      ]
    },
    {
      "cell_type": "code",
      "execution_count": null,
      "metadata": {
        "colab": {
          "base_uri": "https://localhost:8080/"
        },
        "id": "fVFFg_yezZ-5",
        "outputId": "2f8c423a-5e78-423d-8191-9d28f000e58c"
      },
      "outputs": [
        {
          "output_type": "stream",
          "name": "stderr",
          "text": [
            "[nltk_data] Downloading package stopwords to /root/nltk_data...\n",
            "[nltk_data]   Unzipping corpora/stopwords.zip.\n"
          ]
        },
        {
          "output_type": "execute_result",
          "data": {
            "text/plain": [
              "True"
            ]
          },
          "metadata": {},
          "execution_count": 4
        }
      ],
      "source": [
        "nltk.download('stopwords')"
      ]
    },
    {
      "cell_type": "markdown",
      "metadata": {
        "id": "Y_1NrqNJfgqS"
      },
      "source": [
        "FUNCTION TO READ QUERIES OF TVSUM & QV HIGHLIGHTS FROM JSONL FILES"
      ]
    },
    {
      "cell_type": "code",
      "execution_count": null,
      "metadata": {
        "id": "JlS1V9E_2z_m"
      },
      "outputs": [],
      "source": [
        "def get_query(path):\n",
        "\n",
        "  # Initialize an empty list to store queries\n",
        "  queries_list = []\n",
        "\n",
        "  # Reading each line from the JSONL file and extracting the \"query\" field\n",
        "  with open(path, 'r') as jsonl_file:\n",
        "      for line in jsonl_file:\n",
        "          json_data = json.loads(line)\n",
        "          query = json_data.get(\"query\", \"\")\n",
        "          queries_list.append(query)\n",
        "\n",
        "  return queries_list"
      ]
    },
    {
      "cell_type": "code",
      "execution_count": null,
      "metadata": {
        "id": "KTpZNRyinbtL"
      },
      "outputs": [],
      "source": [
        "# Path to JSONL files\n",
        "qv_file_path = '/content/sample_data/highlight_train_release.jsonl'\n",
        "tvsum_file_path = '/content/sample_data/tvsum_train.jsonl'\n",
        "\n",
        "qv_queries = get_query(qv_file_path)\n",
        "tvsum_query = get_query(tvsum_file_path)"
      ]
    },
    {
      "cell_type": "markdown",
      "metadata": {
        "id": "osyOQYmegR53"
      },
      "source": [
        "QUERIES BEFORE PREPROCESSING"
      ]
    },
    {
      "cell_type": "code",
      "execution_count": null,
      "metadata": {
        "colab": {
          "base_uri": "https://localhost:8080/"
        },
        "id": "RwO3n-rC3b9V",
        "outputId": "925422c2-3b69-4360-b5e8-d43cefc7f350"
      },
      "outputs": [
        {
          "name": "stdout",
          "output_type": "stream",
          "text": [
            "QV HIGHLIGHTS DATASET QUERIES\n",
            "\n",
            "some military patriots takes us through their safety procedures and measures.\n",
            "Man in baseball cap eats before doing his interview.\n",
            "A man in a white shirt discusses the right to have and carry firearms.\n",
            "A view of a bamboo fountain of water in a tea house and people scoop from and wash off\n",
            "The weather map shows large snowfall in the weather patterns.\n"
          ]
        }
      ],
      "source": [
        "print(\"QV HIGHLIGHTS DATASET QUERIES\\n\")\n",
        "for i in range(5):\n",
        "  print(qv_queries[i])"
      ]
    },
    {
      "cell_type": "code",
      "execution_count": null,
      "metadata": {
        "colab": {
          "base_uri": "https://localhost:8080/"
        },
        "id": "1NjyN6GY3cAw",
        "outputId": "4fda6903-7a55-41ee-ee53-7fbd11702fbb"
      },
      "outputs": [
        {
          "name": "stdout",
          "output_type": "stream",
          "text": [
            "TVSUM DATASET QUERIES\n",
            "\n",
            "Electric cars making earth more green\n",
            "The stuck truck of Mark, The rut that filled an afternoon.\n",
            "#453 girl gets van stuck in the back fourty [Davidsfarm]\n",
            "Smart Electric Vehicle Balances on Two Wheels\n",
            "ŠKODA Tips How to Repair Your Tyre\n"
          ]
        }
      ],
      "source": [
        "print(\"TVSUM DATASET QUERIES\\n\")\n",
        "for i in range(5):\n",
        "  print(tvsum_query[i])"
      ]
    },
    {
      "cell_type": "markdown",
      "metadata": {
        "id": "BoIDQJ46gpgw"
      },
      "source": [
        "PREPROCESSING FUNCTIONS"
      ]
    },
    {
      "cell_type": "code",
      "execution_count": null,
      "metadata": {
        "id": "Hxq7A0mO7HD2"
      },
      "outputs": [],
      "source": [
        "# Function to remove extra spaces from a sentence\n",
        "def remove_extra_spaces(sentence):\n",
        "    return re.sub(' +', ' ', sentence.strip())\n",
        "\n",
        "# Function to remove non-alphanumeric characters from a string\n",
        "def remove_non_alphanumeric(sentence):\n",
        "    return re.sub(r'[^\\w\\s]', '', sentence)\n",
        "\n",
        "# Function to remove stopwords\n",
        "def remove_stopwords(text):\n",
        "    stopword_pattern = r'\\b(?:' + '|'.join(stopwords.words('english')) + r')\\b'\n",
        "    return re.sub(stopword_pattern, '', text, flags=re.IGNORECASE)"
      ]
    },
    {
      "cell_type": "code",
      "execution_count": null,
      "metadata": {
        "id": "lZ4JqqoyzgSZ"
      },
      "outputs": [],
      "source": [
        "# Cleaning qv queries\n",
        "cleaned_list = [remove_non_alphanumeric(x.lower()) for x in qv_queries]\n",
        "qv_cleaned_query = [remove_extra_spaces(remove_stopwords(x)) for x in cleaned_list]\n",
        "\n",
        "# Cleaning tvsum queries\n",
        "cleaned_listt = [remove_non_alphanumeric(x.lower()) for x in tvsum_query]\n",
        "tvsum_cleaned_query = [remove_extra_spaces(remove_stopwords(x)) for x in cleaned_listt]"
      ]
    },
    {
      "cell_type": "markdown",
      "metadata": {
        "id": "eXSExZlNgxv0"
      },
      "source": [
        "QUERIES AFTER PREPROCESSING"
      ]
    },
    {
      "cell_type": "code",
      "execution_count": null,
      "metadata": {
        "colab": {
          "base_uri": "https://localhost:8080/"
        },
        "id": "dhzRpc0e-U5Q",
        "outputId": "2c84be0c-52f2-420a-ca6e-35366cf3dd65"
      },
      "outputs": [
        {
          "name": "stdout",
          "output_type": "stream",
          "text": [
            "QV HIGHLIGHTS DATASET QUERIES\n",
            "\n",
            "military patriots takes us safety procedures measures\n",
            "man baseball cap eats interview\n",
            "man white shirt discusses right carry firearms\n",
            "view bamboo fountain water tea house people scoop wash\n",
            "weather map shows large snowfall weather patterns\n"
          ]
        }
      ],
      "source": [
        "print(\"QV HIGHLIGHTS DATASET QUERIES\\n\")\n",
        "for i in range(5):\n",
        "  print(qv_cleaned_query[i])"
      ]
    },
    {
      "cell_type": "code",
      "execution_count": null,
      "metadata": {
        "colab": {
          "base_uri": "https://localhost:8080/"
        },
        "id": "b_ILvZww-U8P",
        "outputId": "8b58464a-a360-4e8d-e7c2-20ca9dd61ac2"
      },
      "outputs": [
        {
          "name": "stdout",
          "output_type": "stream",
          "text": [
            "TVSUM DATASET QUERIES\n",
            "\n",
            "electric cars making earth green\n",
            "stuck truck mark rut filled afternoon\n",
            "453 girl gets van stuck back fourty davidsfarm\n",
            "smart electric vehicle balances two wheels\n",
            "škoda tips repair tyre\n"
          ]
        }
      ],
      "source": [
        "print(\"TVSUM DATASET QUERIES\\n\")\n",
        "for i in range(5):\n",
        "  print(tvsum_cleaned_query[i])"
      ]
    },
    {
      "cell_type": "markdown",
      "metadata": {
        "id": "y3JJJflohE92"
      },
      "source": [
        "LOADING PRETRAINED DISTIL BERT MODEL"
      ]
    },
    {
      "cell_type": "code",
      "execution_count": null,
      "metadata": {
        "colab": {
          "base_uri": "https://localhost:8080/",
          "height": 301,
          "referenced_widgets": [
            "0a57d55ce2f44aee8e4d89eb75d321a5",
            "3a071e2b48e145dc82e9fec654387a1d",
            "f04a6687601e4bf49d88ed4adf6d6271",
            "b744c68a2a5041cab95a76b5b4f0d9bc",
            "4cdab2e8360c41d28668fb9bdb268bed",
            "685d704504e8480eb60ba388f201ed19",
            "8a7fca444eae4b82880ab11d3a57349f",
            "2a3177f0d1874c2eae77e10d07c2587a",
            "a8c83cf7aed041b0985b3d4b04fa326d",
            "0624326fe84f459e8fe30a964d73693d",
            "76eb3e859fb345d194d68d043734d7f1",
            "b4b9e6fa447c4002ae56c7b83458e06e",
            "0d3384c4ffc3459b9b1a66d8c72f3b1e",
            "eef56d1713554f02b5247e83cc3cea5c",
            "a7100dd70603421ea3b615ba800a73d2",
            "bf80207e75ed426a9eb08ab45c913b43",
            "365f4812e9424166b1cf02a026054b3b",
            "3066d513083849f9bfcd70762925863d",
            "febc6b9c24fc44b4a4b3620de85994b1",
            "9b8f01fd72ec42d88b29d963401a3121",
            "d2ccf449fa134f0c929c6e9365a08655",
            "51a617ee3f694c2986b26a0192be4f3a",
            "aa285b3636354a7b8ecf1b4a57d5fff3",
            "ec62e28cd2ae40b19bb6cd31be7009f7",
            "4e0661de70e041aaac083297f9c3f56c",
            "cf5446c00b8247fcb9a39dab0a0b7c35",
            "b80ff86a16884055b8f2ab8d9944802a",
            "0270613fefae4cd1b430458f2774ce2d",
            "53c51753878d4a199ad601616f5f931c",
            "868d714e25cc46a0ac6560659bb0d203",
            "78f0ab7cfa2743f5885f8783d2cea7c9",
            "f077209140c84ce99e7b88473968c997",
            "ed83daa9742c404c870c1c42d508e8b3",
            "737e5e57ec404223a41ed6fd08402369",
            "d59d2a6154bb414f937f6ce982783c8f",
            "dd1839c6469640b9a155a03b67dbb98b",
            "a45c3eeddef7496a90172b17eb9a7f7f",
            "cf83218ed1064a368d1a17de5595f351",
            "ea899c9c34834add8f6978c804c5b94a",
            "834e1317d81043eaa7bdadf89017c253",
            "2ac863ac84b74d099407db4095eac2c5",
            "bc81b4c34b954a2397c4b49d19d46980",
            "3ae219bb1cf14f35b598db6d99afcaec",
            "87de0263e6694e8cbcbb30effbb772c9",
            "5246ad18d1c84a888e4dc927281206c1",
            "4d51ce1a594c4620a9cfa62a8cd525ec",
            "4cf40d46ea20412783de36383bc3b1da",
            "b65b7e284ead4223b0e7e639fdb24249",
            "12405b11d2194f7b8dfebf5b2f379310",
            "cba58e12698b4558aed4fef29c30d6a9",
            "b0fc3b15117a4caab5875509e82e6603",
            "a2fd231f6dbf41ebb585fef7ba1f0ea2",
            "c3e34829ae054fc4b1bbb2d4988002e7",
            "f535a5c0fd5f47358009d35656ce4d7c",
            "3ceffaf9a0f84318b8026de40f8993aa"
          ]
        },
        "id": "jf0tPYahneam",
        "outputId": "c10b6bef-8806-4276-d226-cbc81109d3da"
      },
      "outputs": [
        {
          "output_type": "stream",
          "name": "stderr",
          "text": [
            "/usr/local/lib/python3.10/dist-packages/huggingface_hub/utils/_token.py:88: UserWarning: \n",
            "The secret `HF_TOKEN` does not exist in your Colab secrets.\n",
            "To authenticate with the Hugging Face Hub, create a token in your settings tab (https://huggingface.co/settings/tokens), set it as secret in your Google Colab and restart your session.\n",
            "You will be able to reuse this secret in all of your notebooks.\n",
            "Please note that authentication is recommended but still optional to access public models or datasets.\n",
            "  warnings.warn(\n"
          ]
        },
        {
          "output_type": "display_data",
          "data": {
            "text/plain": [
              "tokenizer_config.json:   0%|          | 0.00/28.0 [00:00<?, ?B/s]"
            ],
            "application/vnd.jupyter.widget-view+json": {
              "version_major": 2,
              "version_minor": 0,
              "model_id": "0a57d55ce2f44aee8e4d89eb75d321a5"
            }
          },
          "metadata": {}
        },
        {
          "output_type": "display_data",
          "data": {
            "text/plain": [
              "vocab.txt:   0%|          | 0.00/232k [00:00<?, ?B/s]"
            ],
            "application/vnd.jupyter.widget-view+json": {
              "version_major": 2,
              "version_minor": 0,
              "model_id": "b4b9e6fa447c4002ae56c7b83458e06e"
            }
          },
          "metadata": {}
        },
        {
          "output_type": "display_data",
          "data": {
            "text/plain": [
              "tokenizer.json:   0%|          | 0.00/466k [00:00<?, ?B/s]"
            ],
            "application/vnd.jupyter.widget-view+json": {
              "version_major": 2,
              "version_minor": 0,
              "model_id": "aa285b3636354a7b8ecf1b4a57d5fff3"
            }
          },
          "metadata": {}
        },
        {
          "output_type": "display_data",
          "data": {
            "text/plain": [
              "config.json:   0%|          | 0.00/483 [00:00<?, ?B/s]"
            ],
            "application/vnd.jupyter.widget-view+json": {
              "version_major": 2,
              "version_minor": 0,
              "model_id": "737e5e57ec404223a41ed6fd08402369"
            }
          },
          "metadata": {}
        },
        {
          "output_type": "display_data",
          "data": {
            "text/plain": [
              "model.safetensors:   0%|          | 0.00/268M [00:00<?, ?B/s]"
            ],
            "application/vnd.jupyter.widget-view+json": {
              "version_major": 2,
              "version_minor": 0,
              "model_id": "5246ad18d1c84a888e4dc927281206c1"
            }
          },
          "metadata": {}
        }
      ],
      "source": [
        "# Check if a GPU is available and set the device accordingly\n",
        "device = torch.device(\"cuda\" if torch.cuda.is_available() else \"cpu\")\n",
        "\n",
        "# Load pre-trained DistilBERT model and tokenizer onto the specified device\n",
        "model_name = 'distilbert-base-uncased'\n",
        "tokenizer = DistilBertTokenizer.from_pretrained(model_name)\n",
        "model = DistilBertModel.from_pretrained(model_name).to(device)"
      ]
    },
    {
      "cell_type": "markdown",
      "metadata": {
        "id": "N3JOplRVhLMX"
      },
      "source": [
        "FUNCTION TO ENCODE QUERIES"
      ]
    },
    {
      "cell_type": "code",
      "execution_count": null,
      "metadata": {
        "id": "BGATcSKTniIC"
      },
      "outputs": [],
      "source": [
        "# Function to encode a list of queries into embeddings\n",
        "def encode_queries(queries, max_length=64):\n",
        "    # Tokenizing queries\n",
        "    inputs = tokenizer(queries, padding=True, truncation=True, max_length=max_length, return_tensors='pt')\n",
        "\n",
        "    inputs = {key: value.to(device) for key, value in inputs.items()}\n",
        "\n",
        "    # Forward pass through the model to get embeddings\n",
        "    with torch.no_grad():\n",
        "        outputs = model(**inputs)\n",
        "\n",
        "    # Return the embeddings\n",
        "    return outputs.last_hidden_state"
      ]
    },
    {
      "cell_type": "code",
      "execution_count": null,
      "metadata": {
        "id": "--OAQgVOhe_3"
      },
      "outputs": [],
      "source": [
        "# Encoding queries into embeddings\n",
        "query_embeddings_qv = encode_queries(qv_cleaned_query)\n",
        "query_embeddings_tvsum = encode_queries(tvsum_cleaned_query)"
      ]
    },
    {
      "cell_type": "markdown",
      "metadata": {
        "id": "Xd_7TxhBi2i4"
      },
      "source": [
        "SHAPE OF EMBEDDINGS"
      ]
    },
    {
      "cell_type": "code",
      "execution_count": null,
      "metadata": {
        "colab": {
          "base_uri": "https://localhost:8080/"
        },
        "id": "3K9YOF07hfDP",
        "outputId": "2306bc91-1a26-478e-b3ed-dd2522439808"
      },
      "outputs": [
        {
          "data": {
            "text/plain": [
              "torch.Size([7218, 24, 768])"
            ]
          },
          "execution_count": 21,
          "metadata": {},
          "output_type": "execute_result"
        }
      ],
      "source": [
        "query_embeddings_qv.shape"
      ]
    },
    {
      "cell_type": "code",
      "execution_count": null,
      "metadata": {
        "colab": {
          "base_uri": "https://localhost:8080/"
        },
        "id": "igg7CvCph4-g",
        "outputId": "84732e0f-3828-4432-98de-13ac249bb614"
      },
      "outputs": [
        {
          "data": {
            "text/plain": [
              "torch.Size([40, 16, 768])"
            ]
          },
          "execution_count": 23,
          "metadata": {},
          "output_type": "execute_result"
        }
      ],
      "source": [
        "query_embeddings_tvsum.shape"
      ]
    },
    {
      "cell_type": "markdown",
      "metadata": {
        "id": "untsHkQCi5i6"
      },
      "source": [
        "PRINTING EMBEDDINGS"
      ]
    },
    {
      "cell_type": "code",
      "execution_count": null,
      "metadata": {
        "colab": {
          "base_uri": "https://localhost:8080/"
        },
        "id": "QSXa_E7yiqId",
        "outputId": "be0b5902-9b31-4672-b7f5-d37d5c072b4c"
      },
      "outputs": [
        {
          "data": {
            "text/plain": [
              "tensor([[[-7.6184e-02,  1.1112e-02, -1.3600e-01,  ..., -1.0188e-01,\n",
              "           1.5395e-01,  2.7936e-01],\n",
              "         [ 2.4744e-01,  1.2378e-01, -6.3289e-02,  ...,  5.2794e-02,\n",
              "           2.3613e-01,  8.0537e-02],\n",
              "         [ 3.2228e-01,  4.6505e-02, -7.1740e-02,  ..., -9.7964e-02,\n",
              "          -3.0228e-01,  8.0934e-02],\n",
              "         ...,\n",
              "         [ 1.2490e-01,  1.9378e-02, -1.8220e-01,  ..., -1.1144e-02,\n",
              "          -2.3461e-01,  8.2949e-02],\n",
              "         [ 1.1831e-01, -6.2375e-03, -1.8143e-01,  ..., -5.8838e-03,\n",
              "          -2.1834e-01,  8.8967e-02],\n",
              "         [ 1.3496e-01, -3.1117e-03, -1.5251e-01,  ..., -1.2895e-02,\n",
              "          -2.0935e-01,  1.1647e-01]],\n",
              "\n",
              "        [[-1.5997e-01, -7.4076e-02, -1.1242e-01,  ..., -1.0303e-01,\n",
              "           2.2145e-01,  2.4245e-01],\n",
              "         [-1.5249e-01,  2.0897e-02,  1.2867e-02,  ...,  3.9140e-02,\n",
              "           4.1866e-01,  4.7134e-02],\n",
              "         [-1.6907e-01,  1.0239e-01, -1.5480e-01,  ...,  3.9209e-01,\n",
              "           1.5580e-01, -9.4785e-02],\n",
              "         ...,\n",
              "         [ 2.4056e-01, -1.1821e-01,  1.7620e-01,  ...,  1.3805e-01,\n",
              "          -2.6926e-02,  1.0594e-01],\n",
              "         [ 2.0505e-01, -1.1384e-01,  1.5156e-01,  ...,  1.2624e-01,\n",
              "          -8.2651e-04,  9.1080e-02],\n",
              "         [ 1.7948e-01, -8.7496e-02,  1.4007e-01,  ...,  1.1805e-01,\n",
              "           1.2946e-02,  7.4129e-02]],\n",
              "\n",
              "        [[-1.6991e-01, -6.4444e-02, -2.4156e-01,  ..., -2.3719e-01,\n",
              "           2.0952e-01,  5.4112e-02],\n",
              "         [ 6.8659e-02, -3.9976e-02, -7.3404e-02,  ..., -1.2628e-01,\n",
              "           2.9614e-01, -1.1765e-01],\n",
              "         [ 3.4268e-01, -2.0491e-01, -3.2230e-01,  ..., -2.3124e-01,\n",
              "           2.7794e-01, -7.2796e-02],\n",
              "         ...,\n",
              "         [ 2.8994e-01,  8.6743e-02, -2.9350e-02,  ...,  3.0720e-02,\n",
              "          -1.7136e-01, -1.6104e-01],\n",
              "         [ 2.8470e-01,  5.7185e-02, -1.9472e-02,  ...,  1.3196e-02,\n",
              "          -1.2562e-01, -1.5960e-01],\n",
              "         [ 2.9085e-01,  4.8143e-02,  2.7737e-02,  ...,  1.2919e-02,\n",
              "          -1.1283e-01, -1.2705e-01]],\n",
              "\n",
              "        ...,\n",
              "\n",
              "        [[-1.9817e-01, -1.8431e-01,  1.3871e-01,  ..., -1.9971e-01,\n",
              "           2.4438e-01,  2.4789e-01],\n",
              "         [ 2.5042e-01, -1.7187e-03,  2.8984e-01,  ..., -5.3070e-02,\n",
              "           6.9898e-01,  8.7655e-02],\n",
              "         [ 1.9131e-01,  7.0959e-02,  6.9977e-01,  ..., -4.2676e-02,\n",
              "           1.9813e-01, -2.1932e-01],\n",
              "         ...,\n",
              "         [ 9.6047e-02, -1.2540e-01,  4.4876e-01,  ...,  4.4933e-02,\n",
              "          -3.5942e-01,  6.4029e-02],\n",
              "         [ 5.6111e-02, -1.4149e-01,  3.9789e-01,  ..., -3.6570e-03,\n",
              "          -2.5059e-01,  9.4304e-02],\n",
              "         [ 3.5203e-02, -1.1474e-01,  4.0600e-01,  ..., -2.3732e-02,\n",
              "          -2.2246e-01,  9.4736e-02]],\n",
              "\n",
              "        [[-1.9124e-01, -1.6558e-01,  1.1460e-01,  ..., -2.7703e-01,\n",
              "           8.7624e-02,  1.6920e-01],\n",
              "         [-5.0270e-01,  2.7190e-01,  3.0604e-01,  ..., -3.7514e-01,\n",
              "           3.4067e-01, -8.3739e-02],\n",
              "         [-1.9183e-01,  3.8394e-01,  3.7178e-01,  ...,  8.1818e-02,\n",
              "           1.9815e-01, -2.7094e-01],\n",
              "         ...,\n",
              "         [ 2.6710e-02,  3.9111e-02,  3.1924e-01,  ..., -2.1237e-01,\n",
              "          -3.3349e-02, -6.8197e-03],\n",
              "         [ 6.8585e-02, -1.1745e-02,  1.7668e-01,  ..., -1.3237e-01,\n",
              "          -1.1387e-01, -6.7668e-02],\n",
              "         [ 2.0001e-01, -1.2006e-01,  1.5125e-01,  ..., -8.2079e-03,\n",
              "          -3.0906e-01, -5.1059e-02]],\n",
              "\n",
              "        [[-3.0532e-01, -1.9582e-01, -8.9074e-02,  ..., -2.1994e-02,\n",
              "           1.7174e-01,  1.8978e-01],\n",
              "         [-3.5812e-01, -1.0622e-01,  7.5869e-02,  ...,  1.3647e-01,\n",
              "           1.0076e+00, -2.1622e-01],\n",
              "         [-5.2219e-01, -3.0871e-01,  3.3785e-02,  ...,  1.3253e-02,\n",
              "           4.6859e-01, -2.7210e-01],\n",
              "         ...,\n",
              "         [ 4.9969e-02, -1.4688e-01, -8.4501e-03,  ...,  1.0788e-01,\n",
              "          -9.9764e-02, -4.8468e-02],\n",
              "         [-9.2513e-02, -1.3094e-01,  1.8057e-02,  ...,  1.2790e-01,\n",
              "          -3.2184e-02, -8.1592e-02],\n",
              "         [ 8.6155e-02, -1.6839e-01,  4.0542e-02,  ...,  1.9601e-01,\n",
              "          -1.7446e-01, -2.8492e-02]]], device='cuda:0')"
            ]
          },
          "execution_count": 24,
          "metadata": {},
          "output_type": "execute_result"
        }
      ],
      "source": [
        "query_embeddings_qv"
      ]
    },
    {
      "cell_type": "code",
      "execution_count": null,
      "metadata": {
        "colab": {
          "base_uri": "https://localhost:8080/"
        },
        "id": "qfn1gt5Ki8lV",
        "outputId": "e2bb9d9a-06b1-402a-8326-3caa2765821d"
      },
      "outputs": [
        {
          "data": {
            "text/plain": [
              "tensor([[[-1.1463e-01, -2.4503e-01, -7.3583e-02,  ..., -2.2703e-01,\n",
              "           3.9777e-01,  9.6576e-02],\n",
              "         [ 2.1972e-01, -8.2425e-04, -1.9157e-01,  ..., -1.8836e-01,\n",
              "           7.1403e-01, -3.6244e-02],\n",
              "         [ 6.8297e-01,  1.1305e-01,  1.7122e-01,  ..., -6.3623e-01,\n",
              "          -1.0147e-01, -2.9381e-01],\n",
              "         ...,\n",
              "         [ 1.8203e-01, -1.5645e-01,  2.1031e-01,  ..., -2.1015e-02,\n",
              "           3.1746e-02, -5.2149e-02],\n",
              "         [ 1.5215e-01,  7.6693e-02,  3.1767e-01,  ..., -2.4171e-01,\n",
              "           1.1689e-01,  1.3984e-01],\n",
              "         [ 2.3081e-01, -1.4215e-01,  2.4024e-01,  ...,  2.0259e-02,\n",
              "           2.0647e-02, -9.9532e-02]],\n",
              "\n",
              "        [[-2.0362e-01, -1.0830e-01,  4.6079e-02,  ..., -2.1183e-01,\n",
              "           3.1933e-01,  2.1295e-01],\n",
              "         [ 2.5503e-01,  2.2251e-01,  3.6445e-01,  ..., -1.1240e-01,\n",
              "           3.8897e-01, -4.2260e-01],\n",
              "         [ 2.5391e-01,  7.6379e-02,  1.7812e-01,  ..., -1.5169e-01,\n",
              "           1.2607e-01, -3.0994e-01],\n",
              "         ...,\n",
              "         [ 7.9275e-02,  6.6881e-02,  1.6044e-01,  ...,  7.4773e-02,\n",
              "           3.7802e-02,  4.8353e-02],\n",
              "         [ 6.8630e-02,  1.9991e-01,  3.3176e-01,  ..., -1.2768e-01,\n",
              "           1.5355e-01,  1.8889e-03],\n",
              "         [ 8.1651e-02,  1.0589e-01,  2.0331e-01,  ...,  2.1998e-02,\n",
              "           6.2474e-02,  2.1058e-02]],\n",
              "\n",
              "        [[-3.1230e-01, -2.3756e-01,  5.5801e-03,  ..., -1.0994e-01,\n",
              "           1.8878e-01,  3.5530e-01],\n",
              "         [ 1.4627e-01,  3.6095e-02, -6.2364e-02,  ..., -4.1470e-01,\n",
              "           1.3116e-01, -4.1775e-01],\n",
              "         [ 2.8572e-02, -2.7179e-01,  1.6824e-01,  ..., -2.5868e-01,\n",
              "          -2.4859e-02, -1.8137e-01],\n",
              "         ...,\n",
              "         [ 8.9436e-01,  2.7918e-01, -2.6869e-01,  ..., -5.4234e-03,\n",
              "          -3.7205e-01, -3.0014e-01],\n",
              "         [-1.2472e-01, -2.1641e-02,  1.8448e-01,  ...,  6.0732e-02,\n",
              "          -4.3769e-01,  2.0541e-01],\n",
              "         [-1.0028e-01, -1.2727e-02,  1.9132e-01,  ...,  6.7778e-02,\n",
              "          -4.2456e-01,  2.0794e-01]],\n",
              "\n",
              "        ...,\n",
              "\n",
              "        [[-4.2302e-01, -2.7818e-02, -1.2094e-01,  ..., -3.6559e-02,\n",
              "          -1.6907e-02,  3.5912e-01],\n",
              "         [ 7.0872e-01, -1.9339e-01,  2.2554e-01,  ...,  1.7597e-02,\n",
              "           1.2112e-01, -1.0111e-01],\n",
              "         [-1.1117e-01, -2.2333e-01,  5.3169e-02,  ..., -2.6190e-01,\n",
              "          -1.9584e-01, -5.1072e-01],\n",
              "         ...,\n",
              "         [-6.0122e-01, -4.4132e-04,  3.6199e-01,  ...,  1.1239e-01,\n",
              "          -4.1754e-01,  3.0388e-01],\n",
              "         [-6.1200e-01,  4.1703e-02,  3.3071e-01,  ...,  1.0084e-01,\n",
              "          -3.6594e-01,  2.9801e-01],\n",
              "         [-5.9162e-01,  9.5513e-02,  3.1992e-01,  ...,  9.2615e-02,\n",
              "          -2.8986e-01,  2.6163e-01]],\n",
              "\n",
              "        [[-1.5049e-01, -1.4181e-01, -9.8082e-02,  ..., -2.3940e-02,\n",
              "           2.8715e-01,  2.2515e-01],\n",
              "         [ 3.7297e-01,  6.4042e-01,  6.1915e-01,  ...,  5.7540e-01,\n",
              "          -1.3620e-01, -5.9230e-02],\n",
              "         [-4.7535e-01,  1.9378e-01,  4.9449e-01,  ...,  4.8940e-01,\n",
              "           2.0512e-01,  1.4524e-01],\n",
              "         ...,\n",
              "         [-1.1095e-01, -1.6345e-01,  1.9737e-01,  ...,  1.1490e-01,\n",
              "          -1.1143e-01,  3.3236e-01],\n",
              "         [-1.4421e-01, -1.6774e-01,  1.6181e-01,  ...,  1.1643e-01,\n",
              "          -6.2451e-02,  3.1611e-01],\n",
              "         [-1.1695e-01, -1.6077e-01,  1.6386e-01,  ...,  1.3413e-01,\n",
              "          -7.0832e-02,  2.9079e-01]],\n",
              "\n",
              "        [[-4.7995e-03, -7.6913e-03, -6.8791e-03,  ..., -8.3816e-02,\n",
              "           1.1035e-01,  3.2545e-01],\n",
              "         [ 1.2007e-01, -5.8805e-02, -1.1009e-01,  ...,  1.6251e-01,\n",
              "           1.9259e-01,  4.7667e-02],\n",
              "         [-2.5052e-01, -3.5840e-01,  2.6629e-01,  ...,  4.4369e-01,\n",
              "           6.8103e-01, -6.1029e-01],\n",
              "         ...,\n",
              "         [-4.2767e-02, -1.4347e-01,  2.8012e-01,  ..., -5.4203e-02,\n",
              "          -3.7051e-01,  2.0178e-01],\n",
              "         [-6.9822e-02, -1.2112e-01,  3.0896e-01,  ..., -5.2587e-02,\n",
              "          -3.0795e-01,  2.2787e-01],\n",
              "         [-4.4296e-02, -9.7336e-02,  3.5426e-01,  ..., -3.9732e-02,\n",
              "          -3.2801e-01,  2.3406e-01]]], device='cuda:0')"
            ]
          },
          "execution_count": 25,
          "metadata": {},
          "output_type": "execute_result"
        }
      ],
      "source": [
        "query_embeddings_tvsum"
      ]
    },
    {
      "cell_type": "markdown",
      "metadata": {
        "id": "vK0dN_lpji9Z"
      },
      "source": [
        "TESTING FOR USER QUERY"
      ]
    },
    {
      "cell_type": "code",
      "execution_count": null,
      "metadata": {
        "colab": {
          "base_uri": "https://localhost:8080/"
        },
        "id": "LBEo7DKpjQHD",
        "outputId": "47be529c-2cf1-4dfe-9a10-1389aa8dc5d0"
      },
      "outputs": [
        {
          "name": "stdout",
          "output_type": "stream",
          "text": [
            "Enter your query: Dog is running Behind the man..!!\n"
          ]
        }
      ],
      "source": [
        "# User Input\n",
        "\n",
        "user_query = input(\"Enter your query: \")"
      ]
    },
    {
      "cell_type": "code",
      "execution_count": null,
      "metadata": {
        "id": "8nVUzJFCjY2-"
      },
      "outputs": [],
      "source": [
        "cleaned_user_query = remove_extra_spaces(remove_stopwords(remove_non_alphanumeric(user_query.lower())))"
      ]
    },
    {
      "cell_type": "code",
      "execution_count": null,
      "metadata": {
        "colab": {
          "base_uri": "https://localhost:8080/",
          "height": 36
        },
        "id": "ZuWdA6lgjY-J",
        "outputId": "075845e2-438c-4166-d8ea-fc7c4c4faa38"
      },
      "outputs": [
        {
          "output_type": "execute_result",
          "data": {
            "text/plain": [
              "'dog running behind man'"
            ],
            "application/vnd.google.colaboratory.intrinsic+json": {
              "type": "string"
            }
          },
          "metadata": {},
          "execution_count": 12
        }
      ],
      "source": [
        "cleaned_user_query"
      ]
    },
    {
      "cell_type": "code",
      "execution_count": null,
      "metadata": {
        "id": "ymGB0l4Sjzxi"
      },
      "outputs": [],
      "source": [
        "embedding = encode_queries(cleaned_user_query)"
      ]
    },
    {
      "cell_type": "code",
      "execution_count": null,
      "metadata": {
        "colab": {
          "base_uri": "https://localhost:8080/"
        },
        "id": "1W5c1iTTjz07",
        "outputId": "8adcc980-ae92-4657-ff0f-50dba65bf65e"
      },
      "outputs": [
        {
          "output_type": "execute_result",
          "data": {
            "text/plain": [
              "tensor([[[-0.1737, -0.0408, -0.1624,  ..., -0.1518,  0.2350,  0.1653],\n",
              "         [ 0.3092,  0.1917, -0.0779,  ..., -0.3535,  0.2289,  0.2688],\n",
              "         [ 0.1654, -0.3956,  0.0141,  ..., -0.1729, -0.0261,  0.1421],\n",
              "         [ 0.2886,  0.1729,  0.2959,  ..., -0.2012, -0.0699,  0.1844],\n",
              "         [-0.4037, -0.1508, -0.2396,  ..., -0.1181, -0.0645, -0.1453],\n",
              "         [ 0.9185,  0.2805, -0.4009,  ...,  0.0036, -0.4495, -0.2942]]],\n",
              "       device='cuda:0')"
            ]
          },
          "metadata": {},
          "execution_count": 14
        }
      ],
      "source": [
        "embedding = embedding.to('cuda:0')\n",
        "embedding"
      ]
    },
    {
      "cell_type": "markdown",
      "metadata": {
        "id": "gKNc0Dx0j_5j"
      },
      "source": [
        "CODE FOR UI"
      ]
    },
    {
      "cell_type": "code",
      "execution_count": null,
      "metadata": {
        "colab": {
          "base_uri": "https://localhost:8080/"
        },
        "id": "lvwZ7E9kSbAu",
        "outputId": "3cf8592c-a1ce-456d-f143-ce0003686c1c"
      },
      "outputs": [
        {
          "output_type": "stream",
          "name": "stdout",
          "text": [
            "Drive already mounted at /content/drive; to attempt to forcibly remount, call drive.mount(\"/content/drive\", force_remount=True).\n"
          ]
        }
      ],
      "source": [
        "drive.mount('/content/drive')"
      ]
    },
    {
      "cell_type": "code",
      "execution_count": null,
      "metadata": {
        "colab": {
          "base_uri": "https://localhost:8080/"
        },
        "id": "DEQQul1atzfv",
        "outputId": "2d2e1fd3-1382-4148-87b2-82b44e62cdcc"
      },
      "outputs": [
        {
          "output_type": "stream",
          "name": "stdout",
          "text": [
            "asdf\n"
          ]
        }
      ],
      "source": [
        "# Path to the directory\n",
        "directory_path = \"/content/drive/My Drive/FYP/input/\"\n",
        "\n",
        "# Listing all files in the directory\n",
        "files = os.listdir(directory_path)\n",
        "\n",
        "latest_file = max(files, key=lambda x: os.path.getmtime(os.path.join(directory_path, x)))\n",
        "\n",
        "# Constructing the full path to the latest file\n",
        "file_path = os.path.join(directory_path, latest_file)\n",
        "\n",
        "# Reading\n",
        "with open(file_path, \"r\") as file:\n",
        "    content = file.read()\n",
        "\n",
        "print(content)"
      ]
    },
    {
      "cell_type": "code",
      "execution_count": null,
      "metadata": {
        "colab": {
          "base_uri": "https://localhost:8080/"
        },
        "id": "fUKqMBURtmvh",
        "outputId": "1b3c570d-1228-4b5d-a194-2eb0898757be"
      },
      "outputs": [
        {
          "name": "stdout",
          "output_type": "stream",
          "text": [
            "Enter your queryhi\n"
          ]
        }
      ],
      "source": [
        "# User Input\n",
        "\n",
        "user_query = input(\"Enter your query\")"
      ]
    },
    {
      "cell_type": "code",
      "execution_count": null,
      "metadata": {
        "id": "TJc5OaDdpt-l"
      },
      "outputs": [],
      "source": [
        "cleaned_query = remove_extra_spaces(remove_stopwords(remove_non_alphanumeric(content.lower())))"
      ]
    },
    {
      "cell_type": "code",
      "source": [
        "ui_embedding = encode_queries(cleaned_query)"
      ],
      "metadata": {
        "id": "7FCZ-RFNOPxK"
      },
      "execution_count": null,
      "outputs": []
    },
    {
      "cell_type": "code",
      "execution_count": null,
      "metadata": {
        "colab": {
          "base_uri": "https://localhost:8080/"
        },
        "id": "dzzCSN6f8OIK",
        "outputId": "09086070-bd49-4865-ae9c-765cda475201"
      },
      "outputs": [
        {
          "output_type": "execute_result",
          "data": {
            "text/plain": [
              "tensor([-0.2218, -0.1646, -0.1281, -0.1908], device='cuda:0')"
            ]
          },
          "metadata": {},
          "execution_count": 13
        }
      ],
      "source": [
        "chunk = ui_embedding[0][0][0:4]\n",
        "chunk"
      ]
    },
    {
      "cell_type": "code",
      "execution_count": null,
      "metadata": {
        "colab": {
          "base_uri": "https://localhost:8080/"
        },
        "id": "3jr1IGoWx0rs",
        "outputId": "072e0c2a-f046-4371-937b-780660836de2"
      },
      "outputs": [
        {
          "output_type": "stream",
          "name": "stdout",
          "text": [
            "Successfully read integer from file: 15\n"
          ]
        }
      ],
      "source": [
        "numpy_embedding = chunk.cpu().numpy()\n",
        "\n",
        "#  Flatten the 3D array to a 2D array\n",
        "flattened_embedding = numpy_embedding.reshape(-1, numpy_embedding.shape[-1])\n",
        "\n",
        "# define output directory\n",
        "output_directory = '/content/drive/MyDrive/FYP/output/'\n",
        "\n",
        "# Get counter from CounterFile in FYP folder\n",
        "counter_file = '/content/drive/MyDrive/FYP/counterfile.txt'\n",
        "with open(counter_file, 'r') as file:\n",
        "    try:\n",
        "        counter = int(file.read().strip())\n",
        "        print(\"Successfully read integer from file:\", counter)\n",
        "\n",
        "    except ValueError:\n",
        "        print(\"Error: The file does not contain a valid integer.\")\n",
        "\n",
        "# Specify the file path for the current embedding\n",
        "title = \"embedding_\" + str(counter) + \".txt\"\n",
        "file_path = os.path.join(output_directory, title)\n",
        "\n",
        "# Save the embedding to the file\n",
        "np.savetxt(file_path, flattened_embedding)\n",
        "\n",
        "# Update counter++ from CounterFile in FYP folder\n",
        "with open(counter_file, 'w') as file:\n",
        "    counter = counter + 1\n",
        "    file.write(str(counter))"
      ]
    },
    {
      "cell_type": "code",
      "execution_count": null,
      "metadata": {
        "id": "HpDrnGNinmqP"
      },
      "outputs": [],
      "source": []
    }
  ],
  "metadata": {
    "accelerator": "GPU",
    "colab": {
      "provenance": []
    },
    "kernelspec": {
      "display_name": "Python 3",
      "name": "python3"
    },
    "language_info": {
      "name": "python"
    },
    "widgets": {
      "application/vnd.jupyter.widget-state+json": {
        "0a57d55ce2f44aee8e4d89eb75d321a5": {
          "model_module": "@jupyter-widgets/controls",
          "model_name": "HBoxModel",
          "model_module_version": "1.5.0",
          "state": {
            "_dom_classes": [],
            "_model_module": "@jupyter-widgets/controls",
            "_model_module_version": "1.5.0",
            "_model_name": "HBoxModel",
            "_view_count": null,
            "_view_module": "@jupyter-widgets/controls",
            "_view_module_version": "1.5.0",
            "_view_name": "HBoxView",
            "box_style": "",
            "children": [
              "IPY_MODEL_3a071e2b48e145dc82e9fec654387a1d",
              "IPY_MODEL_f04a6687601e4bf49d88ed4adf6d6271",
              "IPY_MODEL_b744c68a2a5041cab95a76b5b4f0d9bc"
            ],
            "layout": "IPY_MODEL_4cdab2e8360c41d28668fb9bdb268bed"
          }
        },
        "3a071e2b48e145dc82e9fec654387a1d": {
          "model_module": "@jupyter-widgets/controls",
          "model_name": "HTMLModel",
          "model_module_version": "1.5.0",
          "state": {
            "_dom_classes": [],
            "_model_module": "@jupyter-widgets/controls",
            "_model_module_version": "1.5.0",
            "_model_name": "HTMLModel",
            "_view_count": null,
            "_view_module": "@jupyter-widgets/controls",
            "_view_module_version": "1.5.0",
            "_view_name": "HTMLView",
            "description": "",
            "description_tooltip": null,
            "layout": "IPY_MODEL_685d704504e8480eb60ba388f201ed19",
            "placeholder": "​",
            "style": "IPY_MODEL_8a7fca444eae4b82880ab11d3a57349f",
            "value": "tokenizer_config.json: 100%"
          }
        },
        "f04a6687601e4bf49d88ed4adf6d6271": {
          "model_module": "@jupyter-widgets/controls",
          "model_name": "FloatProgressModel",
          "model_module_version": "1.5.0",
          "state": {
            "_dom_classes": [],
            "_model_module": "@jupyter-widgets/controls",
            "_model_module_version": "1.5.0",
            "_model_name": "FloatProgressModel",
            "_view_count": null,
            "_view_module": "@jupyter-widgets/controls",
            "_view_module_version": "1.5.0",
            "_view_name": "ProgressView",
            "bar_style": "success",
            "description": "",
            "description_tooltip": null,
            "layout": "IPY_MODEL_2a3177f0d1874c2eae77e10d07c2587a",
            "max": 28,
            "min": 0,
            "orientation": "horizontal",
            "style": "IPY_MODEL_a8c83cf7aed041b0985b3d4b04fa326d",
            "value": 28
          }
        },
        "b744c68a2a5041cab95a76b5b4f0d9bc": {
          "model_module": "@jupyter-widgets/controls",
          "model_name": "HTMLModel",
          "model_module_version": "1.5.0",
          "state": {
            "_dom_classes": [],
            "_model_module": "@jupyter-widgets/controls",
            "_model_module_version": "1.5.0",
            "_model_name": "HTMLModel",
            "_view_count": null,
            "_view_module": "@jupyter-widgets/controls",
            "_view_module_version": "1.5.0",
            "_view_name": "HTMLView",
            "description": "",
            "description_tooltip": null,
            "layout": "IPY_MODEL_0624326fe84f459e8fe30a964d73693d",
            "placeholder": "​",
            "style": "IPY_MODEL_76eb3e859fb345d194d68d043734d7f1",
            "value": " 28.0/28.0 [00:00&lt;00:00, 2.03kB/s]"
          }
        },
        "4cdab2e8360c41d28668fb9bdb268bed": {
          "model_module": "@jupyter-widgets/base",
          "model_name": "LayoutModel",
          "model_module_version": "1.2.0",
          "state": {
            "_model_module": "@jupyter-widgets/base",
            "_model_module_version": "1.2.0",
            "_model_name": "LayoutModel",
            "_view_count": null,
            "_view_module": "@jupyter-widgets/base",
            "_view_module_version": "1.2.0",
            "_view_name": "LayoutView",
            "align_content": null,
            "align_items": null,
            "align_self": null,
            "border": null,
            "bottom": null,
            "display": null,
            "flex": null,
            "flex_flow": null,
            "grid_area": null,
            "grid_auto_columns": null,
            "grid_auto_flow": null,
            "grid_auto_rows": null,
            "grid_column": null,
            "grid_gap": null,
            "grid_row": null,
            "grid_template_areas": null,
            "grid_template_columns": null,
            "grid_template_rows": null,
            "height": null,
            "justify_content": null,
            "justify_items": null,
            "left": null,
            "margin": null,
            "max_height": null,
            "max_width": null,
            "min_height": null,
            "min_width": null,
            "object_fit": null,
            "object_position": null,
            "order": null,
            "overflow": null,
            "overflow_x": null,
            "overflow_y": null,
            "padding": null,
            "right": null,
            "top": null,
            "visibility": null,
            "width": null
          }
        },
        "685d704504e8480eb60ba388f201ed19": {
          "model_module": "@jupyter-widgets/base",
          "model_name": "LayoutModel",
          "model_module_version": "1.2.0",
          "state": {
            "_model_module": "@jupyter-widgets/base",
            "_model_module_version": "1.2.0",
            "_model_name": "LayoutModel",
            "_view_count": null,
            "_view_module": "@jupyter-widgets/base",
            "_view_module_version": "1.2.0",
            "_view_name": "LayoutView",
            "align_content": null,
            "align_items": null,
            "align_self": null,
            "border": null,
            "bottom": null,
            "display": null,
            "flex": null,
            "flex_flow": null,
            "grid_area": null,
            "grid_auto_columns": null,
            "grid_auto_flow": null,
            "grid_auto_rows": null,
            "grid_column": null,
            "grid_gap": null,
            "grid_row": null,
            "grid_template_areas": null,
            "grid_template_columns": null,
            "grid_template_rows": null,
            "height": null,
            "justify_content": null,
            "justify_items": null,
            "left": null,
            "margin": null,
            "max_height": null,
            "max_width": null,
            "min_height": null,
            "min_width": null,
            "object_fit": null,
            "object_position": null,
            "order": null,
            "overflow": null,
            "overflow_x": null,
            "overflow_y": null,
            "padding": null,
            "right": null,
            "top": null,
            "visibility": null,
            "width": null
          }
        },
        "8a7fca444eae4b82880ab11d3a57349f": {
          "model_module": "@jupyter-widgets/controls",
          "model_name": "DescriptionStyleModel",
          "model_module_version": "1.5.0",
          "state": {
            "_model_module": "@jupyter-widgets/controls",
            "_model_module_version": "1.5.0",
            "_model_name": "DescriptionStyleModel",
            "_view_count": null,
            "_view_module": "@jupyter-widgets/base",
            "_view_module_version": "1.2.0",
            "_view_name": "StyleView",
            "description_width": ""
          }
        },
        "2a3177f0d1874c2eae77e10d07c2587a": {
          "model_module": "@jupyter-widgets/base",
          "model_name": "LayoutModel",
          "model_module_version": "1.2.0",
          "state": {
            "_model_module": "@jupyter-widgets/base",
            "_model_module_version": "1.2.0",
            "_model_name": "LayoutModel",
            "_view_count": null,
            "_view_module": "@jupyter-widgets/base",
            "_view_module_version": "1.2.0",
            "_view_name": "LayoutView",
            "align_content": null,
            "align_items": null,
            "align_self": null,
            "border": null,
            "bottom": null,
            "display": null,
            "flex": null,
            "flex_flow": null,
            "grid_area": null,
            "grid_auto_columns": null,
            "grid_auto_flow": null,
            "grid_auto_rows": null,
            "grid_column": null,
            "grid_gap": null,
            "grid_row": null,
            "grid_template_areas": null,
            "grid_template_columns": null,
            "grid_template_rows": null,
            "height": null,
            "justify_content": null,
            "justify_items": null,
            "left": null,
            "margin": null,
            "max_height": null,
            "max_width": null,
            "min_height": null,
            "min_width": null,
            "object_fit": null,
            "object_position": null,
            "order": null,
            "overflow": null,
            "overflow_x": null,
            "overflow_y": null,
            "padding": null,
            "right": null,
            "top": null,
            "visibility": null,
            "width": null
          }
        },
        "a8c83cf7aed041b0985b3d4b04fa326d": {
          "model_module": "@jupyter-widgets/controls",
          "model_name": "ProgressStyleModel",
          "model_module_version": "1.5.0",
          "state": {
            "_model_module": "@jupyter-widgets/controls",
            "_model_module_version": "1.5.0",
            "_model_name": "ProgressStyleModel",
            "_view_count": null,
            "_view_module": "@jupyter-widgets/base",
            "_view_module_version": "1.2.0",
            "_view_name": "StyleView",
            "bar_color": null,
            "description_width": ""
          }
        },
        "0624326fe84f459e8fe30a964d73693d": {
          "model_module": "@jupyter-widgets/base",
          "model_name": "LayoutModel",
          "model_module_version": "1.2.0",
          "state": {
            "_model_module": "@jupyter-widgets/base",
            "_model_module_version": "1.2.0",
            "_model_name": "LayoutModel",
            "_view_count": null,
            "_view_module": "@jupyter-widgets/base",
            "_view_module_version": "1.2.0",
            "_view_name": "LayoutView",
            "align_content": null,
            "align_items": null,
            "align_self": null,
            "border": null,
            "bottom": null,
            "display": null,
            "flex": null,
            "flex_flow": null,
            "grid_area": null,
            "grid_auto_columns": null,
            "grid_auto_flow": null,
            "grid_auto_rows": null,
            "grid_column": null,
            "grid_gap": null,
            "grid_row": null,
            "grid_template_areas": null,
            "grid_template_columns": null,
            "grid_template_rows": null,
            "height": null,
            "justify_content": null,
            "justify_items": null,
            "left": null,
            "margin": null,
            "max_height": null,
            "max_width": null,
            "min_height": null,
            "min_width": null,
            "object_fit": null,
            "object_position": null,
            "order": null,
            "overflow": null,
            "overflow_x": null,
            "overflow_y": null,
            "padding": null,
            "right": null,
            "top": null,
            "visibility": null,
            "width": null
          }
        },
        "76eb3e859fb345d194d68d043734d7f1": {
          "model_module": "@jupyter-widgets/controls",
          "model_name": "DescriptionStyleModel",
          "model_module_version": "1.5.0",
          "state": {
            "_model_module": "@jupyter-widgets/controls",
            "_model_module_version": "1.5.0",
            "_model_name": "DescriptionStyleModel",
            "_view_count": null,
            "_view_module": "@jupyter-widgets/base",
            "_view_module_version": "1.2.0",
            "_view_name": "StyleView",
            "description_width": ""
          }
        },
        "b4b9e6fa447c4002ae56c7b83458e06e": {
          "model_module": "@jupyter-widgets/controls",
          "model_name": "HBoxModel",
          "model_module_version": "1.5.0",
          "state": {
            "_dom_classes": [],
            "_model_module": "@jupyter-widgets/controls",
            "_model_module_version": "1.5.0",
            "_model_name": "HBoxModel",
            "_view_count": null,
            "_view_module": "@jupyter-widgets/controls",
            "_view_module_version": "1.5.0",
            "_view_name": "HBoxView",
            "box_style": "",
            "children": [
              "IPY_MODEL_0d3384c4ffc3459b9b1a66d8c72f3b1e",
              "IPY_MODEL_eef56d1713554f02b5247e83cc3cea5c",
              "IPY_MODEL_a7100dd70603421ea3b615ba800a73d2"
            ],
            "layout": "IPY_MODEL_bf80207e75ed426a9eb08ab45c913b43"
          }
        },
        "0d3384c4ffc3459b9b1a66d8c72f3b1e": {
          "model_module": "@jupyter-widgets/controls",
          "model_name": "HTMLModel",
          "model_module_version": "1.5.0",
          "state": {
            "_dom_classes": [],
            "_model_module": "@jupyter-widgets/controls",
            "_model_module_version": "1.5.0",
            "_model_name": "HTMLModel",
            "_view_count": null,
            "_view_module": "@jupyter-widgets/controls",
            "_view_module_version": "1.5.0",
            "_view_name": "HTMLView",
            "description": "",
            "description_tooltip": null,
            "layout": "IPY_MODEL_365f4812e9424166b1cf02a026054b3b",
            "placeholder": "​",
            "style": "IPY_MODEL_3066d513083849f9bfcd70762925863d",
            "value": "vocab.txt: 100%"
          }
        },
        "eef56d1713554f02b5247e83cc3cea5c": {
          "model_module": "@jupyter-widgets/controls",
          "model_name": "FloatProgressModel",
          "model_module_version": "1.5.0",
          "state": {
            "_dom_classes": [],
            "_model_module": "@jupyter-widgets/controls",
            "_model_module_version": "1.5.0",
            "_model_name": "FloatProgressModel",
            "_view_count": null,
            "_view_module": "@jupyter-widgets/controls",
            "_view_module_version": "1.5.0",
            "_view_name": "ProgressView",
            "bar_style": "success",
            "description": "",
            "description_tooltip": null,
            "layout": "IPY_MODEL_febc6b9c24fc44b4a4b3620de85994b1",
            "max": 231508,
            "min": 0,
            "orientation": "horizontal",
            "style": "IPY_MODEL_9b8f01fd72ec42d88b29d963401a3121",
            "value": 231508
          }
        },
        "a7100dd70603421ea3b615ba800a73d2": {
          "model_module": "@jupyter-widgets/controls",
          "model_name": "HTMLModel",
          "model_module_version": "1.5.0",
          "state": {
            "_dom_classes": [],
            "_model_module": "@jupyter-widgets/controls",
            "_model_module_version": "1.5.0",
            "_model_name": "HTMLModel",
            "_view_count": null,
            "_view_module": "@jupyter-widgets/controls",
            "_view_module_version": "1.5.0",
            "_view_name": "HTMLView",
            "description": "",
            "description_tooltip": null,
            "layout": "IPY_MODEL_d2ccf449fa134f0c929c6e9365a08655",
            "placeholder": "​",
            "style": "IPY_MODEL_51a617ee3f694c2986b26a0192be4f3a",
            "value": " 232k/232k [00:00&lt;00:00, 472kB/s]"
          }
        },
        "bf80207e75ed426a9eb08ab45c913b43": {
          "model_module": "@jupyter-widgets/base",
          "model_name": "LayoutModel",
          "model_module_version": "1.2.0",
          "state": {
            "_model_module": "@jupyter-widgets/base",
            "_model_module_version": "1.2.0",
            "_model_name": "LayoutModel",
            "_view_count": null,
            "_view_module": "@jupyter-widgets/base",
            "_view_module_version": "1.2.0",
            "_view_name": "LayoutView",
            "align_content": null,
            "align_items": null,
            "align_self": null,
            "border": null,
            "bottom": null,
            "display": null,
            "flex": null,
            "flex_flow": null,
            "grid_area": null,
            "grid_auto_columns": null,
            "grid_auto_flow": null,
            "grid_auto_rows": null,
            "grid_column": null,
            "grid_gap": null,
            "grid_row": null,
            "grid_template_areas": null,
            "grid_template_columns": null,
            "grid_template_rows": null,
            "height": null,
            "justify_content": null,
            "justify_items": null,
            "left": null,
            "margin": null,
            "max_height": null,
            "max_width": null,
            "min_height": null,
            "min_width": null,
            "object_fit": null,
            "object_position": null,
            "order": null,
            "overflow": null,
            "overflow_x": null,
            "overflow_y": null,
            "padding": null,
            "right": null,
            "top": null,
            "visibility": null,
            "width": null
          }
        },
        "365f4812e9424166b1cf02a026054b3b": {
          "model_module": "@jupyter-widgets/base",
          "model_name": "LayoutModel",
          "model_module_version": "1.2.0",
          "state": {
            "_model_module": "@jupyter-widgets/base",
            "_model_module_version": "1.2.0",
            "_model_name": "LayoutModel",
            "_view_count": null,
            "_view_module": "@jupyter-widgets/base",
            "_view_module_version": "1.2.0",
            "_view_name": "LayoutView",
            "align_content": null,
            "align_items": null,
            "align_self": null,
            "border": null,
            "bottom": null,
            "display": null,
            "flex": null,
            "flex_flow": null,
            "grid_area": null,
            "grid_auto_columns": null,
            "grid_auto_flow": null,
            "grid_auto_rows": null,
            "grid_column": null,
            "grid_gap": null,
            "grid_row": null,
            "grid_template_areas": null,
            "grid_template_columns": null,
            "grid_template_rows": null,
            "height": null,
            "justify_content": null,
            "justify_items": null,
            "left": null,
            "margin": null,
            "max_height": null,
            "max_width": null,
            "min_height": null,
            "min_width": null,
            "object_fit": null,
            "object_position": null,
            "order": null,
            "overflow": null,
            "overflow_x": null,
            "overflow_y": null,
            "padding": null,
            "right": null,
            "top": null,
            "visibility": null,
            "width": null
          }
        },
        "3066d513083849f9bfcd70762925863d": {
          "model_module": "@jupyter-widgets/controls",
          "model_name": "DescriptionStyleModel",
          "model_module_version": "1.5.0",
          "state": {
            "_model_module": "@jupyter-widgets/controls",
            "_model_module_version": "1.5.0",
            "_model_name": "DescriptionStyleModel",
            "_view_count": null,
            "_view_module": "@jupyter-widgets/base",
            "_view_module_version": "1.2.0",
            "_view_name": "StyleView",
            "description_width": ""
          }
        },
        "febc6b9c24fc44b4a4b3620de85994b1": {
          "model_module": "@jupyter-widgets/base",
          "model_name": "LayoutModel",
          "model_module_version": "1.2.0",
          "state": {
            "_model_module": "@jupyter-widgets/base",
            "_model_module_version": "1.2.0",
            "_model_name": "LayoutModel",
            "_view_count": null,
            "_view_module": "@jupyter-widgets/base",
            "_view_module_version": "1.2.0",
            "_view_name": "LayoutView",
            "align_content": null,
            "align_items": null,
            "align_self": null,
            "border": null,
            "bottom": null,
            "display": null,
            "flex": null,
            "flex_flow": null,
            "grid_area": null,
            "grid_auto_columns": null,
            "grid_auto_flow": null,
            "grid_auto_rows": null,
            "grid_column": null,
            "grid_gap": null,
            "grid_row": null,
            "grid_template_areas": null,
            "grid_template_columns": null,
            "grid_template_rows": null,
            "height": null,
            "justify_content": null,
            "justify_items": null,
            "left": null,
            "margin": null,
            "max_height": null,
            "max_width": null,
            "min_height": null,
            "min_width": null,
            "object_fit": null,
            "object_position": null,
            "order": null,
            "overflow": null,
            "overflow_x": null,
            "overflow_y": null,
            "padding": null,
            "right": null,
            "top": null,
            "visibility": null,
            "width": null
          }
        },
        "9b8f01fd72ec42d88b29d963401a3121": {
          "model_module": "@jupyter-widgets/controls",
          "model_name": "ProgressStyleModel",
          "model_module_version": "1.5.0",
          "state": {
            "_model_module": "@jupyter-widgets/controls",
            "_model_module_version": "1.5.0",
            "_model_name": "ProgressStyleModel",
            "_view_count": null,
            "_view_module": "@jupyter-widgets/base",
            "_view_module_version": "1.2.0",
            "_view_name": "StyleView",
            "bar_color": null,
            "description_width": ""
          }
        },
        "d2ccf449fa134f0c929c6e9365a08655": {
          "model_module": "@jupyter-widgets/base",
          "model_name": "LayoutModel",
          "model_module_version": "1.2.0",
          "state": {
            "_model_module": "@jupyter-widgets/base",
            "_model_module_version": "1.2.0",
            "_model_name": "LayoutModel",
            "_view_count": null,
            "_view_module": "@jupyter-widgets/base",
            "_view_module_version": "1.2.0",
            "_view_name": "LayoutView",
            "align_content": null,
            "align_items": null,
            "align_self": null,
            "border": null,
            "bottom": null,
            "display": null,
            "flex": null,
            "flex_flow": null,
            "grid_area": null,
            "grid_auto_columns": null,
            "grid_auto_flow": null,
            "grid_auto_rows": null,
            "grid_column": null,
            "grid_gap": null,
            "grid_row": null,
            "grid_template_areas": null,
            "grid_template_columns": null,
            "grid_template_rows": null,
            "height": null,
            "justify_content": null,
            "justify_items": null,
            "left": null,
            "margin": null,
            "max_height": null,
            "max_width": null,
            "min_height": null,
            "min_width": null,
            "object_fit": null,
            "object_position": null,
            "order": null,
            "overflow": null,
            "overflow_x": null,
            "overflow_y": null,
            "padding": null,
            "right": null,
            "top": null,
            "visibility": null,
            "width": null
          }
        },
        "51a617ee3f694c2986b26a0192be4f3a": {
          "model_module": "@jupyter-widgets/controls",
          "model_name": "DescriptionStyleModel",
          "model_module_version": "1.5.0",
          "state": {
            "_model_module": "@jupyter-widgets/controls",
            "_model_module_version": "1.5.0",
            "_model_name": "DescriptionStyleModel",
            "_view_count": null,
            "_view_module": "@jupyter-widgets/base",
            "_view_module_version": "1.2.0",
            "_view_name": "StyleView",
            "description_width": ""
          }
        },
        "aa285b3636354a7b8ecf1b4a57d5fff3": {
          "model_module": "@jupyter-widgets/controls",
          "model_name": "HBoxModel",
          "model_module_version": "1.5.0",
          "state": {
            "_dom_classes": [],
            "_model_module": "@jupyter-widgets/controls",
            "_model_module_version": "1.5.0",
            "_model_name": "HBoxModel",
            "_view_count": null,
            "_view_module": "@jupyter-widgets/controls",
            "_view_module_version": "1.5.0",
            "_view_name": "HBoxView",
            "box_style": "",
            "children": [
              "IPY_MODEL_ec62e28cd2ae40b19bb6cd31be7009f7",
              "IPY_MODEL_4e0661de70e041aaac083297f9c3f56c",
              "IPY_MODEL_cf5446c00b8247fcb9a39dab0a0b7c35"
            ],
            "layout": "IPY_MODEL_b80ff86a16884055b8f2ab8d9944802a"
          }
        },
        "ec62e28cd2ae40b19bb6cd31be7009f7": {
          "model_module": "@jupyter-widgets/controls",
          "model_name": "HTMLModel",
          "model_module_version": "1.5.0",
          "state": {
            "_dom_classes": [],
            "_model_module": "@jupyter-widgets/controls",
            "_model_module_version": "1.5.0",
            "_model_name": "HTMLModel",
            "_view_count": null,
            "_view_module": "@jupyter-widgets/controls",
            "_view_module_version": "1.5.0",
            "_view_name": "HTMLView",
            "description": "",
            "description_tooltip": null,
            "layout": "IPY_MODEL_0270613fefae4cd1b430458f2774ce2d",
            "placeholder": "​",
            "style": "IPY_MODEL_53c51753878d4a199ad601616f5f931c",
            "value": "tokenizer.json: 100%"
          }
        },
        "4e0661de70e041aaac083297f9c3f56c": {
          "model_module": "@jupyter-widgets/controls",
          "model_name": "FloatProgressModel",
          "model_module_version": "1.5.0",
          "state": {
            "_dom_classes": [],
            "_model_module": "@jupyter-widgets/controls",
            "_model_module_version": "1.5.0",
            "_model_name": "FloatProgressModel",
            "_view_count": null,
            "_view_module": "@jupyter-widgets/controls",
            "_view_module_version": "1.5.0",
            "_view_name": "ProgressView",
            "bar_style": "success",
            "description": "",
            "description_tooltip": null,
            "layout": "IPY_MODEL_868d714e25cc46a0ac6560659bb0d203",
            "max": 466062,
            "min": 0,
            "orientation": "horizontal",
            "style": "IPY_MODEL_78f0ab7cfa2743f5885f8783d2cea7c9",
            "value": 466062
          }
        },
        "cf5446c00b8247fcb9a39dab0a0b7c35": {
          "model_module": "@jupyter-widgets/controls",
          "model_name": "HTMLModel",
          "model_module_version": "1.5.0",
          "state": {
            "_dom_classes": [],
            "_model_module": "@jupyter-widgets/controls",
            "_model_module_version": "1.5.0",
            "_model_name": "HTMLModel",
            "_view_count": null,
            "_view_module": "@jupyter-widgets/controls",
            "_view_module_version": "1.5.0",
            "_view_name": "HTMLView",
            "description": "",
            "description_tooltip": null,
            "layout": "IPY_MODEL_f077209140c84ce99e7b88473968c997",
            "placeholder": "​",
            "style": "IPY_MODEL_ed83daa9742c404c870c1c42d508e8b3",
            "value": " 466k/466k [00:00&lt;00:00, 635kB/s]"
          }
        },
        "b80ff86a16884055b8f2ab8d9944802a": {
          "model_module": "@jupyter-widgets/base",
          "model_name": "LayoutModel",
          "model_module_version": "1.2.0",
          "state": {
            "_model_module": "@jupyter-widgets/base",
            "_model_module_version": "1.2.0",
            "_model_name": "LayoutModel",
            "_view_count": null,
            "_view_module": "@jupyter-widgets/base",
            "_view_module_version": "1.2.0",
            "_view_name": "LayoutView",
            "align_content": null,
            "align_items": null,
            "align_self": null,
            "border": null,
            "bottom": null,
            "display": null,
            "flex": null,
            "flex_flow": null,
            "grid_area": null,
            "grid_auto_columns": null,
            "grid_auto_flow": null,
            "grid_auto_rows": null,
            "grid_column": null,
            "grid_gap": null,
            "grid_row": null,
            "grid_template_areas": null,
            "grid_template_columns": null,
            "grid_template_rows": null,
            "height": null,
            "justify_content": null,
            "justify_items": null,
            "left": null,
            "margin": null,
            "max_height": null,
            "max_width": null,
            "min_height": null,
            "min_width": null,
            "object_fit": null,
            "object_position": null,
            "order": null,
            "overflow": null,
            "overflow_x": null,
            "overflow_y": null,
            "padding": null,
            "right": null,
            "top": null,
            "visibility": null,
            "width": null
          }
        },
        "0270613fefae4cd1b430458f2774ce2d": {
          "model_module": "@jupyter-widgets/base",
          "model_name": "LayoutModel",
          "model_module_version": "1.2.0",
          "state": {
            "_model_module": "@jupyter-widgets/base",
            "_model_module_version": "1.2.0",
            "_model_name": "LayoutModel",
            "_view_count": null,
            "_view_module": "@jupyter-widgets/base",
            "_view_module_version": "1.2.0",
            "_view_name": "LayoutView",
            "align_content": null,
            "align_items": null,
            "align_self": null,
            "border": null,
            "bottom": null,
            "display": null,
            "flex": null,
            "flex_flow": null,
            "grid_area": null,
            "grid_auto_columns": null,
            "grid_auto_flow": null,
            "grid_auto_rows": null,
            "grid_column": null,
            "grid_gap": null,
            "grid_row": null,
            "grid_template_areas": null,
            "grid_template_columns": null,
            "grid_template_rows": null,
            "height": null,
            "justify_content": null,
            "justify_items": null,
            "left": null,
            "margin": null,
            "max_height": null,
            "max_width": null,
            "min_height": null,
            "min_width": null,
            "object_fit": null,
            "object_position": null,
            "order": null,
            "overflow": null,
            "overflow_x": null,
            "overflow_y": null,
            "padding": null,
            "right": null,
            "top": null,
            "visibility": null,
            "width": null
          }
        },
        "53c51753878d4a199ad601616f5f931c": {
          "model_module": "@jupyter-widgets/controls",
          "model_name": "DescriptionStyleModel",
          "model_module_version": "1.5.0",
          "state": {
            "_model_module": "@jupyter-widgets/controls",
            "_model_module_version": "1.5.0",
            "_model_name": "DescriptionStyleModel",
            "_view_count": null,
            "_view_module": "@jupyter-widgets/base",
            "_view_module_version": "1.2.0",
            "_view_name": "StyleView",
            "description_width": ""
          }
        },
        "868d714e25cc46a0ac6560659bb0d203": {
          "model_module": "@jupyter-widgets/base",
          "model_name": "LayoutModel",
          "model_module_version": "1.2.0",
          "state": {
            "_model_module": "@jupyter-widgets/base",
            "_model_module_version": "1.2.0",
            "_model_name": "LayoutModel",
            "_view_count": null,
            "_view_module": "@jupyter-widgets/base",
            "_view_module_version": "1.2.0",
            "_view_name": "LayoutView",
            "align_content": null,
            "align_items": null,
            "align_self": null,
            "border": null,
            "bottom": null,
            "display": null,
            "flex": null,
            "flex_flow": null,
            "grid_area": null,
            "grid_auto_columns": null,
            "grid_auto_flow": null,
            "grid_auto_rows": null,
            "grid_column": null,
            "grid_gap": null,
            "grid_row": null,
            "grid_template_areas": null,
            "grid_template_columns": null,
            "grid_template_rows": null,
            "height": null,
            "justify_content": null,
            "justify_items": null,
            "left": null,
            "margin": null,
            "max_height": null,
            "max_width": null,
            "min_height": null,
            "min_width": null,
            "object_fit": null,
            "object_position": null,
            "order": null,
            "overflow": null,
            "overflow_x": null,
            "overflow_y": null,
            "padding": null,
            "right": null,
            "top": null,
            "visibility": null,
            "width": null
          }
        },
        "78f0ab7cfa2743f5885f8783d2cea7c9": {
          "model_module": "@jupyter-widgets/controls",
          "model_name": "ProgressStyleModel",
          "model_module_version": "1.5.0",
          "state": {
            "_model_module": "@jupyter-widgets/controls",
            "_model_module_version": "1.5.0",
            "_model_name": "ProgressStyleModel",
            "_view_count": null,
            "_view_module": "@jupyter-widgets/base",
            "_view_module_version": "1.2.0",
            "_view_name": "StyleView",
            "bar_color": null,
            "description_width": ""
          }
        },
        "f077209140c84ce99e7b88473968c997": {
          "model_module": "@jupyter-widgets/base",
          "model_name": "LayoutModel",
          "model_module_version": "1.2.0",
          "state": {
            "_model_module": "@jupyter-widgets/base",
            "_model_module_version": "1.2.0",
            "_model_name": "LayoutModel",
            "_view_count": null,
            "_view_module": "@jupyter-widgets/base",
            "_view_module_version": "1.2.0",
            "_view_name": "LayoutView",
            "align_content": null,
            "align_items": null,
            "align_self": null,
            "border": null,
            "bottom": null,
            "display": null,
            "flex": null,
            "flex_flow": null,
            "grid_area": null,
            "grid_auto_columns": null,
            "grid_auto_flow": null,
            "grid_auto_rows": null,
            "grid_column": null,
            "grid_gap": null,
            "grid_row": null,
            "grid_template_areas": null,
            "grid_template_columns": null,
            "grid_template_rows": null,
            "height": null,
            "justify_content": null,
            "justify_items": null,
            "left": null,
            "margin": null,
            "max_height": null,
            "max_width": null,
            "min_height": null,
            "min_width": null,
            "object_fit": null,
            "object_position": null,
            "order": null,
            "overflow": null,
            "overflow_x": null,
            "overflow_y": null,
            "padding": null,
            "right": null,
            "top": null,
            "visibility": null,
            "width": null
          }
        },
        "ed83daa9742c404c870c1c42d508e8b3": {
          "model_module": "@jupyter-widgets/controls",
          "model_name": "DescriptionStyleModel",
          "model_module_version": "1.5.0",
          "state": {
            "_model_module": "@jupyter-widgets/controls",
            "_model_module_version": "1.5.0",
            "_model_name": "DescriptionStyleModel",
            "_view_count": null,
            "_view_module": "@jupyter-widgets/base",
            "_view_module_version": "1.2.0",
            "_view_name": "StyleView",
            "description_width": ""
          }
        },
        "737e5e57ec404223a41ed6fd08402369": {
          "model_module": "@jupyter-widgets/controls",
          "model_name": "HBoxModel",
          "model_module_version": "1.5.0",
          "state": {
            "_dom_classes": [],
            "_model_module": "@jupyter-widgets/controls",
            "_model_module_version": "1.5.0",
            "_model_name": "HBoxModel",
            "_view_count": null,
            "_view_module": "@jupyter-widgets/controls",
            "_view_module_version": "1.5.0",
            "_view_name": "HBoxView",
            "box_style": "",
            "children": [
              "IPY_MODEL_d59d2a6154bb414f937f6ce982783c8f",
              "IPY_MODEL_dd1839c6469640b9a155a03b67dbb98b",
              "IPY_MODEL_a45c3eeddef7496a90172b17eb9a7f7f"
            ],
            "layout": "IPY_MODEL_cf83218ed1064a368d1a17de5595f351"
          }
        },
        "d59d2a6154bb414f937f6ce982783c8f": {
          "model_module": "@jupyter-widgets/controls",
          "model_name": "HTMLModel",
          "model_module_version": "1.5.0",
          "state": {
            "_dom_classes": [],
            "_model_module": "@jupyter-widgets/controls",
            "_model_module_version": "1.5.0",
            "_model_name": "HTMLModel",
            "_view_count": null,
            "_view_module": "@jupyter-widgets/controls",
            "_view_module_version": "1.5.0",
            "_view_name": "HTMLView",
            "description": "",
            "description_tooltip": null,
            "layout": "IPY_MODEL_ea899c9c34834add8f6978c804c5b94a",
            "placeholder": "​",
            "style": "IPY_MODEL_834e1317d81043eaa7bdadf89017c253",
            "value": "config.json: 100%"
          }
        },
        "dd1839c6469640b9a155a03b67dbb98b": {
          "model_module": "@jupyter-widgets/controls",
          "model_name": "FloatProgressModel",
          "model_module_version": "1.5.0",
          "state": {
            "_dom_classes": [],
            "_model_module": "@jupyter-widgets/controls",
            "_model_module_version": "1.5.0",
            "_model_name": "FloatProgressModel",
            "_view_count": null,
            "_view_module": "@jupyter-widgets/controls",
            "_view_module_version": "1.5.0",
            "_view_name": "ProgressView",
            "bar_style": "success",
            "description": "",
            "description_tooltip": null,
            "layout": "IPY_MODEL_2ac863ac84b74d099407db4095eac2c5",
            "max": 483,
            "min": 0,
            "orientation": "horizontal",
            "style": "IPY_MODEL_bc81b4c34b954a2397c4b49d19d46980",
            "value": 483
          }
        },
        "a45c3eeddef7496a90172b17eb9a7f7f": {
          "model_module": "@jupyter-widgets/controls",
          "model_name": "HTMLModel",
          "model_module_version": "1.5.0",
          "state": {
            "_dom_classes": [],
            "_model_module": "@jupyter-widgets/controls",
            "_model_module_version": "1.5.0",
            "_model_name": "HTMLModel",
            "_view_count": null,
            "_view_module": "@jupyter-widgets/controls",
            "_view_module_version": "1.5.0",
            "_view_name": "HTMLView",
            "description": "",
            "description_tooltip": null,
            "layout": "IPY_MODEL_3ae219bb1cf14f35b598db6d99afcaec",
            "placeholder": "​",
            "style": "IPY_MODEL_87de0263e6694e8cbcbb30effbb772c9",
            "value": " 483/483 [00:00&lt;00:00, 37.8kB/s]"
          }
        },
        "cf83218ed1064a368d1a17de5595f351": {
          "model_module": "@jupyter-widgets/base",
          "model_name": "LayoutModel",
          "model_module_version": "1.2.0",
          "state": {
            "_model_module": "@jupyter-widgets/base",
            "_model_module_version": "1.2.0",
            "_model_name": "LayoutModel",
            "_view_count": null,
            "_view_module": "@jupyter-widgets/base",
            "_view_module_version": "1.2.0",
            "_view_name": "LayoutView",
            "align_content": null,
            "align_items": null,
            "align_self": null,
            "border": null,
            "bottom": null,
            "display": null,
            "flex": null,
            "flex_flow": null,
            "grid_area": null,
            "grid_auto_columns": null,
            "grid_auto_flow": null,
            "grid_auto_rows": null,
            "grid_column": null,
            "grid_gap": null,
            "grid_row": null,
            "grid_template_areas": null,
            "grid_template_columns": null,
            "grid_template_rows": null,
            "height": null,
            "justify_content": null,
            "justify_items": null,
            "left": null,
            "margin": null,
            "max_height": null,
            "max_width": null,
            "min_height": null,
            "min_width": null,
            "object_fit": null,
            "object_position": null,
            "order": null,
            "overflow": null,
            "overflow_x": null,
            "overflow_y": null,
            "padding": null,
            "right": null,
            "top": null,
            "visibility": null,
            "width": null
          }
        },
        "ea899c9c34834add8f6978c804c5b94a": {
          "model_module": "@jupyter-widgets/base",
          "model_name": "LayoutModel",
          "model_module_version": "1.2.0",
          "state": {
            "_model_module": "@jupyter-widgets/base",
            "_model_module_version": "1.2.0",
            "_model_name": "LayoutModel",
            "_view_count": null,
            "_view_module": "@jupyter-widgets/base",
            "_view_module_version": "1.2.0",
            "_view_name": "LayoutView",
            "align_content": null,
            "align_items": null,
            "align_self": null,
            "border": null,
            "bottom": null,
            "display": null,
            "flex": null,
            "flex_flow": null,
            "grid_area": null,
            "grid_auto_columns": null,
            "grid_auto_flow": null,
            "grid_auto_rows": null,
            "grid_column": null,
            "grid_gap": null,
            "grid_row": null,
            "grid_template_areas": null,
            "grid_template_columns": null,
            "grid_template_rows": null,
            "height": null,
            "justify_content": null,
            "justify_items": null,
            "left": null,
            "margin": null,
            "max_height": null,
            "max_width": null,
            "min_height": null,
            "min_width": null,
            "object_fit": null,
            "object_position": null,
            "order": null,
            "overflow": null,
            "overflow_x": null,
            "overflow_y": null,
            "padding": null,
            "right": null,
            "top": null,
            "visibility": null,
            "width": null
          }
        },
        "834e1317d81043eaa7bdadf89017c253": {
          "model_module": "@jupyter-widgets/controls",
          "model_name": "DescriptionStyleModel",
          "model_module_version": "1.5.0",
          "state": {
            "_model_module": "@jupyter-widgets/controls",
            "_model_module_version": "1.5.0",
            "_model_name": "DescriptionStyleModel",
            "_view_count": null,
            "_view_module": "@jupyter-widgets/base",
            "_view_module_version": "1.2.0",
            "_view_name": "StyleView",
            "description_width": ""
          }
        },
        "2ac863ac84b74d099407db4095eac2c5": {
          "model_module": "@jupyter-widgets/base",
          "model_name": "LayoutModel",
          "model_module_version": "1.2.0",
          "state": {
            "_model_module": "@jupyter-widgets/base",
            "_model_module_version": "1.2.0",
            "_model_name": "LayoutModel",
            "_view_count": null,
            "_view_module": "@jupyter-widgets/base",
            "_view_module_version": "1.2.0",
            "_view_name": "LayoutView",
            "align_content": null,
            "align_items": null,
            "align_self": null,
            "border": null,
            "bottom": null,
            "display": null,
            "flex": null,
            "flex_flow": null,
            "grid_area": null,
            "grid_auto_columns": null,
            "grid_auto_flow": null,
            "grid_auto_rows": null,
            "grid_column": null,
            "grid_gap": null,
            "grid_row": null,
            "grid_template_areas": null,
            "grid_template_columns": null,
            "grid_template_rows": null,
            "height": null,
            "justify_content": null,
            "justify_items": null,
            "left": null,
            "margin": null,
            "max_height": null,
            "max_width": null,
            "min_height": null,
            "min_width": null,
            "object_fit": null,
            "object_position": null,
            "order": null,
            "overflow": null,
            "overflow_x": null,
            "overflow_y": null,
            "padding": null,
            "right": null,
            "top": null,
            "visibility": null,
            "width": null
          }
        },
        "bc81b4c34b954a2397c4b49d19d46980": {
          "model_module": "@jupyter-widgets/controls",
          "model_name": "ProgressStyleModel",
          "model_module_version": "1.5.0",
          "state": {
            "_model_module": "@jupyter-widgets/controls",
            "_model_module_version": "1.5.0",
            "_model_name": "ProgressStyleModel",
            "_view_count": null,
            "_view_module": "@jupyter-widgets/base",
            "_view_module_version": "1.2.0",
            "_view_name": "StyleView",
            "bar_color": null,
            "description_width": ""
          }
        },
        "3ae219bb1cf14f35b598db6d99afcaec": {
          "model_module": "@jupyter-widgets/base",
          "model_name": "LayoutModel",
          "model_module_version": "1.2.0",
          "state": {
            "_model_module": "@jupyter-widgets/base",
            "_model_module_version": "1.2.0",
            "_model_name": "LayoutModel",
            "_view_count": null,
            "_view_module": "@jupyter-widgets/base",
            "_view_module_version": "1.2.0",
            "_view_name": "LayoutView",
            "align_content": null,
            "align_items": null,
            "align_self": null,
            "border": null,
            "bottom": null,
            "display": null,
            "flex": null,
            "flex_flow": null,
            "grid_area": null,
            "grid_auto_columns": null,
            "grid_auto_flow": null,
            "grid_auto_rows": null,
            "grid_column": null,
            "grid_gap": null,
            "grid_row": null,
            "grid_template_areas": null,
            "grid_template_columns": null,
            "grid_template_rows": null,
            "height": null,
            "justify_content": null,
            "justify_items": null,
            "left": null,
            "margin": null,
            "max_height": null,
            "max_width": null,
            "min_height": null,
            "min_width": null,
            "object_fit": null,
            "object_position": null,
            "order": null,
            "overflow": null,
            "overflow_x": null,
            "overflow_y": null,
            "padding": null,
            "right": null,
            "top": null,
            "visibility": null,
            "width": null
          }
        },
        "87de0263e6694e8cbcbb30effbb772c9": {
          "model_module": "@jupyter-widgets/controls",
          "model_name": "DescriptionStyleModel",
          "model_module_version": "1.5.0",
          "state": {
            "_model_module": "@jupyter-widgets/controls",
            "_model_module_version": "1.5.0",
            "_model_name": "DescriptionStyleModel",
            "_view_count": null,
            "_view_module": "@jupyter-widgets/base",
            "_view_module_version": "1.2.0",
            "_view_name": "StyleView",
            "description_width": ""
          }
        },
        "5246ad18d1c84a888e4dc927281206c1": {
          "model_module": "@jupyter-widgets/controls",
          "model_name": "HBoxModel",
          "model_module_version": "1.5.0",
          "state": {
            "_dom_classes": [],
            "_model_module": "@jupyter-widgets/controls",
            "_model_module_version": "1.5.0",
            "_model_name": "HBoxModel",
            "_view_count": null,
            "_view_module": "@jupyter-widgets/controls",
            "_view_module_version": "1.5.0",
            "_view_name": "HBoxView",
            "box_style": "",
            "children": [
              "IPY_MODEL_4d51ce1a594c4620a9cfa62a8cd525ec",
              "IPY_MODEL_4cf40d46ea20412783de36383bc3b1da",
              "IPY_MODEL_b65b7e284ead4223b0e7e639fdb24249"
            ],
            "layout": "IPY_MODEL_12405b11d2194f7b8dfebf5b2f379310"
          }
        },
        "4d51ce1a594c4620a9cfa62a8cd525ec": {
          "model_module": "@jupyter-widgets/controls",
          "model_name": "HTMLModel",
          "model_module_version": "1.5.0",
          "state": {
            "_dom_classes": [],
            "_model_module": "@jupyter-widgets/controls",
            "_model_module_version": "1.5.0",
            "_model_name": "HTMLModel",
            "_view_count": null,
            "_view_module": "@jupyter-widgets/controls",
            "_view_module_version": "1.5.0",
            "_view_name": "HTMLView",
            "description": "",
            "description_tooltip": null,
            "layout": "IPY_MODEL_cba58e12698b4558aed4fef29c30d6a9",
            "placeholder": "​",
            "style": "IPY_MODEL_b0fc3b15117a4caab5875509e82e6603",
            "value": "model.safetensors: 100%"
          }
        },
        "4cf40d46ea20412783de36383bc3b1da": {
          "model_module": "@jupyter-widgets/controls",
          "model_name": "FloatProgressModel",
          "model_module_version": "1.5.0",
          "state": {
            "_dom_classes": [],
            "_model_module": "@jupyter-widgets/controls",
            "_model_module_version": "1.5.0",
            "_model_name": "FloatProgressModel",
            "_view_count": null,
            "_view_module": "@jupyter-widgets/controls",
            "_view_module_version": "1.5.0",
            "_view_name": "ProgressView",
            "bar_style": "success",
            "description": "",
            "description_tooltip": null,
            "layout": "IPY_MODEL_a2fd231f6dbf41ebb585fef7ba1f0ea2",
            "max": 267954768,
            "min": 0,
            "orientation": "horizontal",
            "style": "IPY_MODEL_c3e34829ae054fc4b1bbb2d4988002e7",
            "value": 267954768
          }
        },
        "b65b7e284ead4223b0e7e639fdb24249": {
          "model_module": "@jupyter-widgets/controls",
          "model_name": "HTMLModel",
          "model_module_version": "1.5.0",
          "state": {
            "_dom_classes": [],
            "_model_module": "@jupyter-widgets/controls",
            "_model_module_version": "1.5.0",
            "_model_name": "HTMLModel",
            "_view_count": null,
            "_view_module": "@jupyter-widgets/controls",
            "_view_module_version": "1.5.0",
            "_view_name": "HTMLView",
            "description": "",
            "description_tooltip": null,
            "layout": "IPY_MODEL_f535a5c0fd5f47358009d35656ce4d7c",
            "placeholder": "​",
            "style": "IPY_MODEL_3ceffaf9a0f84318b8026de40f8993aa",
            "value": " 268M/268M [00:02&lt;00:00, 121MB/s]"
          }
        },
        "12405b11d2194f7b8dfebf5b2f379310": {
          "model_module": "@jupyter-widgets/base",
          "model_name": "LayoutModel",
          "model_module_version": "1.2.0",
          "state": {
            "_model_module": "@jupyter-widgets/base",
            "_model_module_version": "1.2.0",
            "_model_name": "LayoutModel",
            "_view_count": null,
            "_view_module": "@jupyter-widgets/base",
            "_view_module_version": "1.2.0",
            "_view_name": "LayoutView",
            "align_content": null,
            "align_items": null,
            "align_self": null,
            "border": null,
            "bottom": null,
            "display": null,
            "flex": null,
            "flex_flow": null,
            "grid_area": null,
            "grid_auto_columns": null,
            "grid_auto_flow": null,
            "grid_auto_rows": null,
            "grid_column": null,
            "grid_gap": null,
            "grid_row": null,
            "grid_template_areas": null,
            "grid_template_columns": null,
            "grid_template_rows": null,
            "height": null,
            "justify_content": null,
            "justify_items": null,
            "left": null,
            "margin": null,
            "max_height": null,
            "max_width": null,
            "min_height": null,
            "min_width": null,
            "object_fit": null,
            "object_position": null,
            "order": null,
            "overflow": null,
            "overflow_x": null,
            "overflow_y": null,
            "padding": null,
            "right": null,
            "top": null,
            "visibility": null,
            "width": null
          }
        },
        "cba58e12698b4558aed4fef29c30d6a9": {
          "model_module": "@jupyter-widgets/base",
          "model_name": "LayoutModel",
          "model_module_version": "1.2.0",
          "state": {
            "_model_module": "@jupyter-widgets/base",
            "_model_module_version": "1.2.0",
            "_model_name": "LayoutModel",
            "_view_count": null,
            "_view_module": "@jupyter-widgets/base",
            "_view_module_version": "1.2.0",
            "_view_name": "LayoutView",
            "align_content": null,
            "align_items": null,
            "align_self": null,
            "border": null,
            "bottom": null,
            "display": null,
            "flex": null,
            "flex_flow": null,
            "grid_area": null,
            "grid_auto_columns": null,
            "grid_auto_flow": null,
            "grid_auto_rows": null,
            "grid_column": null,
            "grid_gap": null,
            "grid_row": null,
            "grid_template_areas": null,
            "grid_template_columns": null,
            "grid_template_rows": null,
            "height": null,
            "justify_content": null,
            "justify_items": null,
            "left": null,
            "margin": null,
            "max_height": null,
            "max_width": null,
            "min_height": null,
            "min_width": null,
            "object_fit": null,
            "object_position": null,
            "order": null,
            "overflow": null,
            "overflow_x": null,
            "overflow_y": null,
            "padding": null,
            "right": null,
            "top": null,
            "visibility": null,
            "width": null
          }
        },
        "b0fc3b15117a4caab5875509e82e6603": {
          "model_module": "@jupyter-widgets/controls",
          "model_name": "DescriptionStyleModel",
          "model_module_version": "1.5.0",
          "state": {
            "_model_module": "@jupyter-widgets/controls",
            "_model_module_version": "1.5.0",
            "_model_name": "DescriptionStyleModel",
            "_view_count": null,
            "_view_module": "@jupyter-widgets/base",
            "_view_module_version": "1.2.0",
            "_view_name": "StyleView",
            "description_width": ""
          }
        },
        "a2fd231f6dbf41ebb585fef7ba1f0ea2": {
          "model_module": "@jupyter-widgets/base",
          "model_name": "LayoutModel",
          "model_module_version": "1.2.0",
          "state": {
            "_model_module": "@jupyter-widgets/base",
            "_model_module_version": "1.2.0",
            "_model_name": "LayoutModel",
            "_view_count": null,
            "_view_module": "@jupyter-widgets/base",
            "_view_module_version": "1.2.0",
            "_view_name": "LayoutView",
            "align_content": null,
            "align_items": null,
            "align_self": null,
            "border": null,
            "bottom": null,
            "display": null,
            "flex": null,
            "flex_flow": null,
            "grid_area": null,
            "grid_auto_columns": null,
            "grid_auto_flow": null,
            "grid_auto_rows": null,
            "grid_column": null,
            "grid_gap": null,
            "grid_row": null,
            "grid_template_areas": null,
            "grid_template_columns": null,
            "grid_template_rows": null,
            "height": null,
            "justify_content": null,
            "justify_items": null,
            "left": null,
            "margin": null,
            "max_height": null,
            "max_width": null,
            "min_height": null,
            "min_width": null,
            "object_fit": null,
            "object_position": null,
            "order": null,
            "overflow": null,
            "overflow_x": null,
            "overflow_y": null,
            "padding": null,
            "right": null,
            "top": null,
            "visibility": null,
            "width": null
          }
        },
        "c3e34829ae054fc4b1bbb2d4988002e7": {
          "model_module": "@jupyter-widgets/controls",
          "model_name": "ProgressStyleModel",
          "model_module_version": "1.5.0",
          "state": {
            "_model_module": "@jupyter-widgets/controls",
            "_model_module_version": "1.5.0",
            "_model_name": "ProgressStyleModel",
            "_view_count": null,
            "_view_module": "@jupyter-widgets/base",
            "_view_module_version": "1.2.0",
            "_view_name": "StyleView",
            "bar_color": null,
            "description_width": ""
          }
        },
        "f535a5c0fd5f47358009d35656ce4d7c": {
          "model_module": "@jupyter-widgets/base",
          "model_name": "LayoutModel",
          "model_module_version": "1.2.0",
          "state": {
            "_model_module": "@jupyter-widgets/base",
            "_model_module_version": "1.2.0",
            "_model_name": "LayoutModel",
            "_view_count": null,
            "_view_module": "@jupyter-widgets/base",
            "_view_module_version": "1.2.0",
            "_view_name": "LayoutView",
            "align_content": null,
            "align_items": null,
            "align_self": null,
            "border": null,
            "bottom": null,
            "display": null,
            "flex": null,
            "flex_flow": null,
            "grid_area": null,
            "grid_auto_columns": null,
            "grid_auto_flow": null,
            "grid_auto_rows": null,
            "grid_column": null,
            "grid_gap": null,
            "grid_row": null,
            "grid_template_areas": null,
            "grid_template_columns": null,
            "grid_template_rows": null,
            "height": null,
            "justify_content": null,
            "justify_items": null,
            "left": null,
            "margin": null,
            "max_height": null,
            "max_width": null,
            "min_height": null,
            "min_width": null,
            "object_fit": null,
            "object_position": null,
            "order": null,
            "overflow": null,
            "overflow_x": null,
            "overflow_y": null,
            "padding": null,
            "right": null,
            "top": null,
            "visibility": null,
            "width": null
          }
        },
        "3ceffaf9a0f84318b8026de40f8993aa": {
          "model_module": "@jupyter-widgets/controls",
          "model_name": "DescriptionStyleModel",
          "model_module_version": "1.5.0",
          "state": {
            "_model_module": "@jupyter-widgets/controls",
            "_model_module_version": "1.5.0",
            "_model_name": "DescriptionStyleModel",
            "_view_count": null,
            "_view_module": "@jupyter-widgets/base",
            "_view_module_version": "1.2.0",
            "_view_name": "StyleView",
            "description_width": ""
          }
        }
      }
    }
  },
  "nbformat": 4,
  "nbformat_minor": 0
}